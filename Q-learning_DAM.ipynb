{
 "cells": [
  {
   "cell_type": "code",
   "execution_count": 1,
   "metadata": {},
   "outputs": [],
   "source": [
    "%load_ext autoreload\n",
    "%autoreload 2"
   ]
  },
  {
   "cell_type": "code",
   "execution_count": 2,
   "metadata": {},
   "outputs": [
    {
     "data": {
      "text/plain": [
       "<module 'matplotlib.style' from '/Users/damiengomez/opt/anaconda3/lib/python3.8/site-packages/matplotlib/style/__init__.py'>"
      ]
     },
     "execution_count": 2,
     "metadata": {},
     "output_type": "execute_result"
    }
   ],
   "source": [
    "from tic_env import TictactoeEnv, OptimalPlayer\n",
    "from performance_measures import M_opt, M_rand\n",
    "import numpy as np\n",
    "import matplotlib.pyplot as plt\n",
    "import time\n",
    "from IPython.display import clear_output, display_png, Image\n",
    "from tqdm.notebook import tqdm\n",
    "from io import BytesIO\n",
    "import imageio\n",
    "plt.style"
   ]
  },
  {
   "cell_type": "markdown",
   "metadata": {},
   "source": [
    "$M_opt$ measures the performance of $\\pi$ against the optimal policy. <br>\n",
    "To compute $M_{opt}$, we run $\\pi$ against `Opt(0)` for `N = 500` games for different random seeds. <br>\n",
    "$\\pi$ makes the 1st move in 250 games, and `Opt(0)` makes the 1st move in the rest. <br>\n",
    "We count how many games $\\pi$ wins ($N_{win}$) and loses ($N_{loss}$) and define $$M_{opt} = \\frac{N_{win} - N_{loss}}{N}$$.\n",
    "\n",
    "$M_{rand}$ measures the performance of against the random policy. <br>\n",
    "To compute $M_{rand}$, we repeat what we did for computing $M_{opt}$ but by using `Opt(1)` instead of `Opt(0)`."
   ]
  },
  {
   "cell_type": "code",
   "execution_count": 3,
   "metadata": {},
   "outputs": [
    {
     "name": "stdout",
     "output_type": "stream",
     "text": [
      "M_opt:  0.0 , M_rand:  0.926\n"
     ]
    }
   ],
   "source": [
    "p = OptimalPlayer(0)\n",
    "print(\"M_opt: \", M_opt(p), \", M_rand: \", M_rand(p))"
   ]
  },
  {
   "cell_type": "markdown",
   "metadata": {},
   "source": [
    "## Q-Learning combined with epsilon-greedy policy. "
   ]
  },
  {
   "cell_type": "markdown",
   "metadata": {},
   "source": [
    "We start by creating a data structure to save our Q values"
   ]
  },
  {
   "cell_type": "code",
   "execution_count": 4,
   "metadata": {},
   "outputs": [],
   "source": [
    "# stores only one value that it returns on any key\n",
    "class FinalState():\n",
    "    def __init__(self):\n",
    "        self.value = 0\n",
    "    def __getitem__(self, key):\n",
    "        return self.value\n",
    "    def __setitem__(self, key, value):\n",
    "        self.value = value\n",
    "    def values(self):\n",
    "        return [self.value]\n",
    "    def __repr__(self):\n",
    "        return \"{any: \" + str(self.value) + \"}\"\n",
    "\n",
    "# Q_table[state][move]\n",
    "class QTable(dict):\n",
    "    def __getitem__(self, key):\n",
    "        self.__check_key(key)\n",
    "        return super().__getitem__(self.__to_tuple(key))\n",
    "    def __setitem__(self, key, value):\n",
    "        self.__check_key(key)\n",
    "        super().__setitem__(self.__to_tuple(key), value)\n",
    "\n",
    "    def __missing__(self, key):\n",
    "        arr = self.__to_array(key)\n",
    "        non_zero_locations = list(zip(*np.nonzero(arr == 0)))\n",
    "        if len(non_zero_locations) == 0:\n",
    "            ret = self[arr] = FinalState()\n",
    "            return ret\n",
    "        ret = self[arr] = {loc: 0 for loc in non_zero_locations}\n",
    "        return ret\n",
    "\n",
    "    def __check_key(self, key):\n",
    "        if not isinstance(key, np.ndarray):\n",
    "            raise(TypeError(\"QTable only accepts np.ndarray of as keys\"))\n",
    "        if key.shape != (3, 3):\n",
    "            raise(ValueError(\"QTable only accepts np.ndarray of shape (3, 3)\"))\n",
    "    def __to_array(self, key):\n",
    "        if isinstance(key, tuple):\n",
    "            key = np.array(key).reshape(3, 3)\n",
    "        return key\n",
    "    def __to_tuple(self, key):\n",
    "        if isinstance(key, np.ndarray):\n",
    "            key = tuple(key.reshape(-1))\n",
    "        return key"
   ]
  },
  {
   "cell_type": "code",
   "execution_count": 5,
   "metadata": {},
   "outputs": [],
   "source": [
    "f = FinalState()"
   ]
  },
  {
   "cell_type": "markdown",
   "metadata": {},
   "source": [
    "At each time $t$, state $s_t$ is the board position, action $a_t$ is one of the available positions on the board and reward $r_t$. <br>\n",
    "The reward only non-zero when the game ends where you get $r_t = 1$ if you win the game, $r_t = 1$ if you lose, and $r_t=0$ if it is a draw.\n",
    "\n",
    "Q-Learning has 3 hyper-parameters: \n",
    "- learning rate $\\alpha$\n",
    "- discount factor $\\gamma$\n",
    "- and exploration level $\\epsilon$ \n",
    "\n",
    "For convenience, we fix the learning rate at alpha = 0.05 and the discount factor at $\\gamma$ = 0.99. <br>\n",
    "We initialize all the Q-values at 0. <br>\n",
    "If you are curious, you can explore the effect of $\\alpha$, $\\gamma$ and initial Q-values for yourself. <br>"
   ]
  },
  {
   "cell_type": "code",
   "execution_count": 6,
   "metadata": {},
   "outputs": [],
   "source": [
    "alpha = 0.05 # learning rate \n",
    "gamma = 0.99 # discount factor\n",
    "epsilon = 0 # exploration rate"
   ]
  },
  {
   "cell_type": "markdown",
   "metadata": {},
   "source": [
    "### 2.2 Playing against itself"
   ]
  },
  {
   "cell_type": "code",
   "execution_count": 9,
   "metadata": {},
   "outputs": [],
   "source": [
    "env = TictactoeEnv()\n",
    "Q_table = QTable()\n",
    "rewards = []\n",
    "num_trained_episodes = 0\n",
    "av_rewards = []\n",
    "\n",
    "def epslion_greedy(state):\n",
    "    Q_actions = Q_table[state]\n",
    "    if np.random.random() < epsilon:\n",
    "        actions = list(Q_actions.keys())\n",
    "        if len(actions) == 1:\n",
    "            return actions[0]\n",
    "        return actions[np.random.randint(0, len(actions)-1)]\n",
    "    else:\n",
    "        return max(Q_actions, key=Q_actions.get)"
   ]
  },
  {
   "cell_type": "code",
   "execution_count": 8,
   "metadata": {},
   "outputs": [
    {
     "data": {
      "image/png": "[encoded data removed]",
      "text/plain": [
       "<Figure size 432x288 with 1 Axes>"
      ]
     },
     "metadata": {
      "needs_background": "light"
     },
     "output_type": "display_data"
    }
   ],
   "source": [
    "num_episodes = 20000\n",
    "\n",
    "rewards_players1 = []\n",
    "rewards_players2 = []\n",
    "\n",
    "for itr in tqdm(range(num_episodes), desc=\"Q-learning\"):\n",
    "    env.reset()\n",
    "    state0, end, _ = env.observe()\n",
    "\n",
    "    first_play = True\n",
    "\n",
    "    while not end:\n",
    "\n",
    "        #X play (move 1)\n",
    "        move1 = epsilon_greedy(state0)\n",
    "        state1, end, _ = env.step(move1)\n",
    "\n",
    "        #update Q according to O\n",
    "        if(not first_play) : \n",
    "            Q_table[old_state1][old_move2] =    Q_table[old_state1][old_move2] + alpha * (reward + gamma * max(Q_table[state2].values()) -\n",
    "                                                Q_table[old_state1][old_move2])\n",
    "\n",
    "        #O play (move 2)\n",
    "        move2 = epsilon_greedy(state1)\n",
    "        state2, end, _ = env.step(move2)\n",
    "        \n",
    "        #update Q according to X\n",
    "        Q_table[state0][move1] =    Q_table[state0][move1] + alpha * (reward + gamma * max(Q_table[state2].values()) - #attention\n",
    "                                    Q_table[state0][move1])\n",
    "\n",
    "\n",
    "        #if not end:\n",
    "        #    next_move = epsilon_greedy(intermediate_state)\n",
    "        #    next_state, end, _ = env.step(next_move)\n",
    "        \n",
    "        #reward = env.reward(player=learning_player1)  \n",
    "            \n",
    "        #if end:\n",
    "        #    Q_table[next_state][\"any\"] = reward\n",
    "\n",
    "        old_state1 = state1\n",
    "        old_move2 = move2\n",
    "\n",
    "        state0 = state2\n",
    "\n",
    "        first_play = False\n",
    "\n",
    "    rewards.append(reward)\n",
    "    if len(rewards) >= 50:\n",
    "        av_rewards.append(np.mean(rewards))\n",
    "        rewards = []\n",
    "        clear_output(wait=True)\n",
    "        plt.plot(av_rewards)\n",
    "        plt.show()\n",
    "    num_trained_episodes += 1\n",
    "    env.reset()"
   ]
  },
  {
   "cell_type": "code",
   "execution_count": null,
   "metadata": {},
   "outputs": [],
   "source": [
    "num_episodes = 20000\n",
    "\n",
    "rewards_players1 = []\n",
    "rewards_players2 = []\n",
    "av_rewards_player1 = []\n",
    "av_rewards_player2 = []\n",
    "\n",
    "for itr in tqdm(range(num_episodes), desc=\"Q-learning\"):\n",
    "    env.reset()\n",
    "    state0, end, _ = env.observe()\n",
    "\n",
    "    current_player = 'X'\n",
    "    next_player = 'O'\n",
    "\n",
    "    move1 = epsilon_greedy(state0) #move X\n",
    "    state1, end, _ = env.step(move1)\n",
    "\n",
    "    while not end:\n",
    "        current_player, next_player = next_player, current_player\n",
    "\n",
    "        move2 = epsilon_greedy(state1) #move O\n",
    "        state2, end, _ = env.step(move2)\n",
    "        reward = env.reward(player = next_player)\n",
    "\n",
    "        Q_table[state0][move1] =    Q_table[state0][move1] + alpha * (reward + gamma * max(Q_table[state2].values()) -\n",
    "                                    Q_table[state0][move1])\n",
    "\n",
    "        state0 = state1\n",
    "        state1 = state2\n",
    "        move1 = move2\n",
    "\n",
    "    reward = env.reward(player = current_player)\n",
    "    Q_table[state1][\"any\"] = reward\n",
    "    Q_table[state0][move1] =    Q_table[state0][move1] + alpha * (reward + gamma * max(Q_table[state1].values()) -\n",
    "                                Q_table[state0][move1])\n",
    "    \n",
    "\n",
    "    rewards_players1.append(env.reward(player = 'X'))\n",
    "    rewards_players2.append(env.reward(player = 'O'))\n",
    "    if len(rewards_players1) >= 50:\n",
    "        av_rewards_player1.append(np.mean(rewards_players1))\n",
    "        av_rewards_player2.append(np.mean(rewards_players2))\n",
    "        rewards_players1 = []\n",
    "        rewards_players2 = []\n",
    "        clear_output(wait=True)\n",
    "        plt.subplot(1, 2, 1)\n",
    "        plt.plot(av_rewards_player1)\n",
    "        plt.subplot(1, 2, 2)\n",
    "        plt.plot(av_rewards_player2)\n",
    "        plt.show()\n",
    "    num_trained_episodes += 1\n",
    "    env.reset()"
   ]
  }
 ],
 "metadata": {
  "interpreter": {
   "hash": "d75bde99e3d9b77c1f89aa25ea3a11748bcc59eab3d17b6dc3c04050b8652ff0"
  },
  "kernelspec": {
   "display_name": "Python 3.8.11 ('ai-env')",
   "language": "python",
   "name": "python3"
  },
  "language_info": {
   "codemirror_mode": {
    "name": "ipython",
    "version": 3
   },
   "file_extension": ".py",
   "mimetype": "text/x-python",
   "name": "python",
   "nbconvert_exporter": "python",
   "pygments_lexer": "ipython3",
   "version": "3.8.8"
  },
  "orig_nbformat": 4
 },
 "nbformat": 4,
 "nbformat_minor": 2
}
