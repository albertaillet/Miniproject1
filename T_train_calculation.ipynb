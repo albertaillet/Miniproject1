{
 "cells": [
  {
   "cell_type": "code",
   "execution_count": 2,
   "metadata": {},
   "outputs": [],
   "source": [
    "import pickle\n",
    "import glob\n",
    "import os"
   ]
  },
  {
   "cell_type": "code",
   "execution_count": 4,
   "metadata": {},
   "outputs": [],
   "source": [
    "def percent(value, percent):\n",
    "    min_value = -1\n",
    "    return (value - min_value) * percent + min_value"
   ]
  },
  {
   "cell_type": "code",
   "execution_count": 3,
   "metadata": {},
   "outputs": [],
   "source": [
    "data = {os.path.split(q)[1]: {os.path.split(p)[1]: pickle.load(open(p, 'rb')) for p in glob.glob(q+'/*.pkl')} for q in glob.glob('runs/Q*')}"
   ]
  },
  {
   "cell_type": "code",
   "execution_count": 39,
   "metadata": {},
   "outputs": [],
   "source": [
    "def find_T_train(m_opts, m_rands):\n",
    "    # We define the training time T_train as the number of games an algorithm needs to play in order to reach\n",
    "    # 80% of its final performance according to both m_opt and m_rand.\n",
    "    assert m_opts.keys() == m_rands.keys()\n",
    "\n",
    "    m_opt_max = max(max(v) for v in m_opts.values())\n",
    "    m_rand_max = max(max(v) for v in m_rands.values())\n",
    "    print(f\"m_opt_max: {m_opt_max}\")\n",
    "    print(f\"m_rand_max: {m_rand_max}\")\n",
    "\n",
    "    m_opt_percent = percent(m_opt_max, 0.8)\n",
    "    m_rand_percent = percent(m_rand_max, 0.8)\n",
    "    print(r\"80% of M_opt:\", m_opt_percent)\n",
    "    print(r\"80% of M_rand:\", m_rand_percent)\n",
    "\n",
    "    T_train = 0\n",
    "    for i, num_games in enumerate(range(0, 20_000, 250)):\n",
    "        for key in m_opts.keys():\n",
    "            if (m_opts[key][i] >= m_opt_percent) and (m_rands[key][i] >= m_rand_percent):\n",
    "                T_train = num_games\n",
    "                print(key)\n",
    "            if T_train:\n",
    "                break\n",
    "        if T_train:\n",
    "            break\n",
    "    print(f\"T_train: {T_train}\")\n",
    "    return T_train"
   ]
  },
  {
   "cell_type": "markdown",
   "metadata": {},
   "source": [
    "### Q-learning with learning from experts"
   ]
  },
  {
   "cell_type": "code",
   "execution_count": 40,
   "metadata": {},
   "outputs": [
    {
     "name": "stdout",
     "output_type": "stream",
     "text": [
      "m_opt_max: 0.0\n",
      "m_rand_max: 0.902\n",
      "80% of M_opt: -0.19999999999999996\n",
      "80% of M_rand: 0.5216000000000003\n",
      "n_star=1\n",
      "T_train: 3000\n"
     ]
    }
   ],
   "source": [
    "m_opts = {**{f\"n_star={k}\": v for k, v in data['Q2']['m_opt_dict.pkl'].items()}, \n",
    "          **{f\"epsilon={k}\": v for k, v in data['Q4']['m_opt_per_epsilon.pkl'].items()}}\n",
    "m_rands = {**{f\"n_star={k}\": v for k, v in data['Q2']['m_rand_dict.pkl'].items()}, \n",
    "           **{f\"epsilon={k}\": v for k, v in data['Q4']['m_rand_per_epsilon.pkl'].items()}}\n",
    "T_train = find_T_train(m_opts, m_rands)"
   ]
  },
  {
   "cell_type": "markdown",
   "metadata": {},
   "source": [
    "### Q-learning with learning by self-practice"
   ]
  },
  {
   "cell_type": "code",
   "execution_count": 41,
   "metadata": {},
   "outputs": [
    {
     "name": "stdout",
     "output_type": "stream",
     "text": [
      "m_opt_max: 0.0\n",
      "m_rand_max: 0.942\n",
      "80% of M_opt: -0.19999999999999996\n",
      "80% of M_rand: 0.5536000000000001\n",
      "n_star=20000\n",
      "T_train: 6750\n"
     ]
    }
   ],
   "source": [
    "m_opts = {**{f\"epsilon={k}\": v for k, v in data['Q7']['m_opt_against_itself.pkl'].items()}, \n",
    "          **{f\"n_star={k}\": v for k, v in data['Q8']['m_opt_dict.pkl'].items()}}\n",
    "m_rands = {**{f\"epsilon={k}\": v for k, v in data['Q7']['m_opt_against_itself.pkl'].items()}, \n",
    "           **{f\"n_star={k}\": v for k, v in data['Q8']['m_rand_dict.pkl'].items()}}\n",
    "T_train = find_T_train(m_opts, m_rands)"
   ]
  },
  {
   "cell_type": "markdown",
   "metadata": {},
   "source": [
    "### Deep Q-learning with learning from experts"
   ]
  },
  {
   "cell_type": "code",
   "execution_count": 48,
   "metadata": {},
   "outputs": [
    {
     "name": "stdout",
     "output_type": "stream",
     "text": [
      "m_opt_max: 0.0\n",
      "m_rand_max: 0.964\n",
      "80% of M_opt: -0.19999999999999996\n",
      "80% of M_rand: 0.5712000000000002\n",
      "n_star=10000\n",
      "T_train: 1000\n"
     ]
    }
   ],
   "source": [
    "m_opts = {**{f\"n_star={k}\": v for k, v in data['Q13']['m_opt_dict.pkl'].items()}, \n",
    "          **{f\"epsilon={k}\": v for k, v in data['Q14']['m_opt_dict.pkl'].items()}}\n",
    "m_rands = {**{f\"n_star={k}\": v for k, v in data['Q13']['m_rand_dict.pkl'].items()}, \n",
    "           **{f\"epsilon={k}\": v for k, v in data['Q14']['m_rand_dict.pkl'].items()}}\n",
    "T_train = find_T_train(m_opts, m_rands)"
   ]
  },
  {
   "cell_type": "markdown",
   "metadata": {},
   "source": [
    "### Deep Q-learning with learning by self-practice"
   ]
  },
  {
   "cell_type": "code",
   "execution_count": 52,
   "metadata": {},
   "outputs": [
    {
     "name": "stdout",
     "output_type": "stream",
     "text": [
      "m_opt_max: 0.0\n",
      "m_rand_max: 0.906\n",
      "80% of M_opt: -0.19999999999999996\n",
      "80% of M_rand: 0.5248000000000002\n",
      "epsilon=0.25\n",
      "T_train: 5250\n"
     ]
    }
   ],
   "source": [
    "m_opts = {**{f\"epsilon={k}\": v for k, v in data['Q16']['m_opt_against_itself.pkl'].items()}, \n",
    "          **{f\"n_star={k}\": v for k, v in data['Q17']['m_opt_against_itself.pkl'].items()}}\n",
    "m_rands = {**{f\"epsilon={k}\": v for k, v in data['Q16']['m_rand_against_itself.pkl'].items()}, \n",
    "           **{f\"n_star={k}\": v for k, v in data['Q17']['m_rand_against_itself.pkl'].items()}}\n",
    "T_train = find_T_train(m_opts, m_rands)"
   ]
  }
 ],
 "metadata": {
  "interpreter": {
   "hash": "372ce911d423ca6e068b96540316b9fc345100121f19e601a404720b795d2544"
  },
  "kernelspec": {
   "display_name": "Python 3.8.11 ('ai-env')",
   "language": "python",
   "name": "python3"
  },
  "language_info": {
   "codemirror_mode": {
    "name": "ipython",
    "version": 3
   },
   "file_extension": ".py",
   "mimetype": "text/x-python",
   "name": "python",
   "nbconvert_exporter": "python",
   "pygments_lexer": "ipython3",
   "version": "3.8.11"
  },
  "orig_nbformat": 4
 },
 "nbformat": 4,
 "nbformat_minor": 2
}
